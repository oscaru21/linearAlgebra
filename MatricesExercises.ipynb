{
 "cells": [
  {
   "cell_type": "code",
   "execution_count": 1,
   "metadata": {},
   "outputs": [],
   "source": [
    "import numpy as np"
   ]
  },
  {
   "cell_type": "code",
   "execution_count": 27,
   "metadata": {},
   "outputs": [
    {
     "name": "stdout",
     "output_type": "stream",
     "text": [
      "0\n",
      "0\n",
      "0\n",
      "1.0\n",
      "1.0\n",
      "1.0\n"
     ]
    }
   ],
   "source": [
    "I3  = np.array([[1,0,0],[0,1,0],[0,0,1]])\n",
    "K = np.array([[2/3,1/3,2/3],[-2/3,2/3,1/3],[1/3,2/3,-2/3]])\n",
    "\n",
    "col_0 = I3[:, 0]\n",
    "col_1 = I3[:, 1]\n",
    "col_2 = I3[:, 2]\n",
    "\n",
    "#All the columns and rows should be orthogonal to each other\n",
    "#so the dot product should be 0\n",
    "print(np.dot(col_0, col_1))\n",
    "print(np.dot(col_0, col_2))\n",
    "print(np.dot(col_1, col_2))\n",
    "\n",
    "#and they should have unit norm\n",
    "print(np.linalg.norm(col_0))\n",
    "print(np.linalg.norm(col_1))\n",
    "print(np.linalg.norm(col_2))\n"
   ]
  },
  {
   "cell_type": "code",
   "execution_count": 38,
   "metadata": {},
   "outputs": [
    {
     "name": "stdout",
     "output_type": "stream",
     "text": [
      "True\n",
      "True\n",
      "[[1. 0. 0.]\n",
      " [0. 1. 0.]\n",
      " [0. 0. 1.]]\n"
     ]
    }
   ],
   "source": [
    "def is_orthogonal(matrix):\n",
    "    for i in range(len(matrix)):\n",
    "        for j in range(i + 1, len(matrix)):\n",
    "            if np.dot(matrix[:, i], matrix[:, j]) != 0 or np.dot(matrix[i, :], matrix[j, :]) != 0:\n",
    "                return False\n",
    "        if np.linalg.norm(matrix[:, i]) != 1 or np.linalg.norm(matrix[i, :]) != 1:\n",
    "            return False\n",
    "    return True\n",
    "\n",
    "print(is_orthogonal(I3))\n",
    "print(is_orthogonal(K))\n",
    "\n",
    "#if we multiply the matrix and the transpose the result should be the identity matrix\n",
    "I_result = np.dot(K.T, K)\n",
    "I_result = np.array(I_result, dtype=np.float16)\n",
    "print(I_result)"
   ]
  }
 ],
 "metadata": {
  "interpreter": {
   "hash": "369f2c481f4da34e4445cda3fffd2e751bd1c4d706f27375911949ba6bb62e1c"
  },
  "kernelspec": {
   "display_name": "Python 3.10.2 64-bit",
   "language": "python",
   "name": "python3"
  },
  "language_info": {
   "codemirror_mode": {
    "name": "ipython",
    "version": 3
   },
   "file_extension": ".py",
   "mimetype": "text/x-python",
   "name": "python",
   "nbconvert_exporter": "python",
   "pygments_lexer": "ipython3",
   "version": "3.10.2"
  },
  "orig_nbformat": 4
 },
 "nbformat": 4,
 "nbformat_minor": 2
}
