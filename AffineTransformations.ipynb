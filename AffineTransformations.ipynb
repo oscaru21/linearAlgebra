{
 "cells": [
  {
   "cell_type": "markdown",
   "metadata": {},
   "source": [
    "Affine Transformations"
   ]
  },
  {
   "cell_type": "code",
   "execution_count": 1,
   "metadata": {},
   "outputs": [],
   "source": [
    "import numpy as np\n",
    "import math\n",
    "from matplotlib import pyplot as plt\n",
    "\n",
    "def plot_vectors(vectors, colors):\n",
    "    plt.figure()\n",
    "    #x and y axis\n",
    "    plt.axvline(x=0, color='lightgray')\n",
    "    plt.axhline(y=0, color='lightgray')\n",
    "\n",
    "    for i in range(len(vectors)):\n",
    "        x = np.concatenate([[0,0],vectors[i]])\n",
    "        plt.quiver([x[0]], [x[1]], [x[2]], [x[3]],\n",
    "                   angles='xy', scale_units='xy', scale=1, color=colors[i],)"
   ]
  },
  {
   "cell_type": "markdown",
   "metadata": {},
   "source": [
    "Scaling: We have to multiply each of the components of the vector by a constant\n",
    "- X = Cx * X\n",
    "- Y = Cy * Y"
   ]
  },
  {
   "cell_type": "code",
   "execution_count": 8,
   "metadata": {},
   "outputs": [
    {
     "data": {
      "text/plain": [
       "(-1.0, 5.0)"
      ]
     },
     "execution_count": 8,
     "metadata": {},
     "output_type": "execute_result"
    },
    {
     "data": {
      "image/png": "[encoded data removed]",
      "text/plain": [
       "<Figure size 432x288 with 1 Axes>"
      ]
     },
     "metadata": {
      "needs_background": "light"
     },
     "output_type": "display_data"
    }
   ],
   "source": [
    "#we define an initial vector\n",
    "v = np.array([1,0])\n",
    "\n",
    "#we define a scaling matrix for 2 dimensions\n",
    "S = np.array([[2, 0], [0, 2]])\n",
    "\n",
    "#we apply the S matrix to the vector v\n",
    "Sv = np.dot(S, v)\n",
    "\n",
    "plot_vectors([Sv, v], ['blue', 'red'])\n",
    "plt.xlim(-1,5)\n",
    "plt.ylim(-1,5)"
   ]
  },
  {
   "cell_type": "markdown",
   "metadata": {},
   "source": [
    "Rotation:\n",
    "We know that if we do the transformation from cartesian coordinates to polar coordinates we can define x and y as:\n",
    "- x = r * cos()\n",
    "- y = r * sin()"
   ]
  },
  {
   "cell_type": "code",
   "execution_count": 14,
   "metadata": {},
   "outputs": [
    {
     "data": {
      "text/plain": [
       "(-1.0, 5.0)"
      ]
     },
     "execution_count": 14,
     "metadata": {},
     "output_type": "execute_result"
    },
    {
     "data": {
      "image/png": "[encoded data removed]",
      "text/plain": [
       "<Figure size 432x288 with 1 Axes>"
      ]
     },
     "metadata": {
      "needs_background": "light"
     },
     "output_type": "display_data"
    }
   ],
   "source": [
    "rotation_angle = 1.5 * math.pi\n",
    "\n",
    "#we define a rotation matrix\n",
    "R = np.array(\n",
    "    [[math.cos(rotation_angle), math.sin(rotation_angle)],\n",
    "    [-math.sin(rotation_angle), math.cos(rotation_angle)]])\n",
    "\n",
    "#we apply the matrix R to the vector v\n",
    "Rv = np.dot(R, v)\n",
    "\n",
    "plot_vectors([Rv, v], ['blue', 'red'])\n",
    "plt.xlim(-1,5)\n",
    "plt.ylim(-1,5)"
   ]
  },
  {
   "cell_type": "markdown",
   "metadata": {},
   "source": [
    "Translation:"
   ]
  },
  {
   "cell_type": "code",
   "execution_count": 24,
   "metadata": {},
   "outputs": [
    {
     "data": {
      "text/plain": [
       "(-1.0, 5.0)"
      ]
     },
     "execution_count": 24,
     "metadata": {},
     "output_type": "execute_result"
    },
    {
     "data": {
      "image/png": "[encoded data removed]",
      "text/plain": [
       "<Figure size 432x288 with 1 Axes>"
      ]
     },
     "metadata": {
      "needs_background": "light"
     },
     "output_type": "display_data"
    }
   ],
   "source": [
    "x_trans = 1\n",
    "y_trans = 1\n",
    "\n",
    "#new vector\n",
    "a = np.array([1,1,1])\n",
    "\n",
    "#we define a trnslation matrix\n",
    "T = np.array(\n",
    "    [[1, 0, x_trans],\n",
    "    [0, 1, y_trans],\n",
    "    [0, 0, 1]])\n",
    "\n",
    "#we apply the matrix T to the vector a\n",
    "Ta = np.dot(T, a)\n",
    "\n",
    "plot_vectors([Ta, a], ['blue', 'red'])\n",
    "plt.xlim(-1,5)\n",
    "plt.ylim(-1,5)"
   ]
  }
 ],
 "metadata": {
  "interpreter": {
   "hash": "369f2c481f4da34e4445cda3fffd2e751bd1c4d706f27375911949ba6bb62e1c"
  },
  "kernelspec": {
   "display_name": "Python 3.10.2 64-bit",
   "language": "python",
   "name": "python3"
  },
  "language_info": {
   "codemirror_mode": {
    "name": "ipython",
    "version": 3
   },
   "file_extension": ".py",
   "mimetype": "text/x-python",
   "name": "python",
   "nbconvert_exporter": "python",
   "pygments_lexer": "ipython3",
   "version": "3.10.2"
  },
  "orig_nbformat": 4
 },
 "nbformat": 4,
 "nbformat_minor": 2
}
