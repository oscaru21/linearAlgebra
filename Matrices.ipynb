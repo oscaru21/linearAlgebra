{
 "cells": [
  {
   "cell_type": "markdown",
   "metadata": {},
   "source": [
    "Matrices (Rank 2 tensors):"
   ]
  },
  {
   "cell_type": "code",
   "execution_count": 2,
   "metadata": {},
   "outputs": [],
   "source": [
    "import numpy as np "
   ]
  },
  {
   "cell_type": "code",
   "execution_count": 3,
   "metadata": {},
   "outputs": [],
   "source": [
    "#matrices are written in capital letters\n",
    "X = np. array([[25, 2], [5, 6], [6, 10]])"
   ]
  },
  {
   "cell_type": "code",
   "execution_count": 4,
   "metadata": {},
   "outputs": [
    {
     "name": "stdout",
     "output_type": "stream",
     "text": [
      "(3, 2)\n",
      "6\n"
     ]
    }
   ],
   "source": [
    "#shape\n",
    "print(X.shape)\n",
    "\n",
    "#size\n",
    "print(X.size)"
   ]
  },
  {
   "cell_type": "markdown",
   "metadata": {},
   "source": [
    "Slicing matrices"
   ]
  },
  {
   "cell_type": "code",
   "execution_count": 6,
   "metadata": {},
   "outputs": [
    {
     "name": "stdout",
     "output_type": "stream",
     "text": [
      "[25  2]\n",
      "[5 6]\n",
      "[ 6 10]\n",
      "[25  5  6]\n",
      "[ 2  6 10]\n"
     ]
    }
   ],
   "source": [
    "#matrices shapes are in the form of (rows, columns)\n",
    "#we can have a single row specifying the row index and the : operator\n",
    "row_0 = X[0, :]\n",
    "row_1 = X[1, :]\n",
    "row_2 = X[2, :]\n",
    "\n",
    "#we can have a single column specifying the column index and the : operator\n",
    "col_0 = X[:, 0]\n",
    "col_1 = X[:, 1]\n",
    "\n",
    "print(row_0)\n",
    "print(row_1)\n",
    "print(row_2)\n",
    "\n",
    "print(col_0)\n",
    "print(col_1)"
   ]
  },
  {
   "cell_type": "markdown",
   "metadata": {},
   "source": [
    "Tensor Transposition"
   ]
  },
  {
   "cell_type": "code",
   "execution_count": 9,
   "metadata": {},
   "outputs": [
    {
     "name": "stdout",
     "output_type": "stream",
     "text": [
      "[[25  2]\n",
      " [ 5  6]\n",
      " [ 6 10]]\n",
      "[[25  5  6]\n",
      " [ 2  6 10]]\n"
     ]
    }
   ],
   "source": [
    "#transposition is to flip the axios over the main diagonal\n",
    "#we can also say that its flipping the columns and the rows\n",
    "print(X)\n",
    "print(X.T)"
   ]
  },
  {
   "cell_type": "markdown",
   "metadata": {},
   "source": [
    "Reduction - Minimum - Maximum - Mean"
   ]
  },
  {
   "cell_type": "code",
   "execution_count": 17,
   "metadata": {},
   "outputs": [
    {
     "name": "stdout",
     "output_type": "stream",
     "text": [
      "54\n",
      "[36 18]\n",
      "[27 11 16]\n",
      "2\n",
      "25\n",
      "9.0\n",
      "[12.  6.]\n",
      "12.0\n"
     ]
    }
   ],
   "source": [
    "#Tensor reduction\n",
    "print(np.sum(X))\n",
    "\n",
    "#Tensor column reduction\n",
    "print(np.sum(X, axis=0))\n",
    "\n",
    "#Tensor row reduction\n",
    "print(np.sum(X, axis=1))\n",
    "\n",
    "#Tensor Min\n",
    "print(np.min(X))\n",
    "\n",
    "#Tensor Max\n",
    "print(np.max(X))\n",
    "\n",
    "#Tensor Mean\n",
    "print(np.mean(X))\n",
    "\n",
    "#Tensor column mean\n",
    "print(np.mean(X, axis=0))\n",
    "print(np.mean(X[:, 0]))"
   ]
  },
  {
   "cell_type": "markdown",
   "metadata": {},
   "source": [
    "Dot product"
   ]
  },
  {
   "cell_type": "code",
   "execution_count": 27,
   "metadata": {},
   "outputs": [
    {
     "name": "stdout",
     "output_type": "stream",
     "text": [
      "X1 shape(2, 2)\n",
      "X2 shape(2, 4)\n",
      "(X1, X2) dot product[[32 41 29 32]\n",
      " [17 22 13 17]]\n"
     ]
    }
   ],
   "source": [
    "\n",
    "#in order to perform dot product we need to matrices where the number of columns of X1 is\n",
    "#equal to the number of rows of X2\n",
    "#the dot product is not commutative\n",
    "\n",
    "#X1.shape = (2,2)\n",
    "X1 = np.array([[4, 5], [3, 2]])\n",
    "\n",
    "#X2.shape = (2, 4)\n",
    "X2 = np.array([[3, 4, 1, 3], [4, 5, 5, 4]])\n",
    "\n",
    "print('X1 shape' + str(X1.shape))\n",
    "print('X2 shape' + str(X2.shape))\n",
    "\n",
    "print('(X1, X2) dot product' + str(np.dot(X1, X2)))\n",
    "#print('(X2, X1) dot product' + str(np.dot(X2, X1)))"
   ]
  }
 ],
 "metadata": {
  "interpreter": {
   "hash": "369f2c481f4da34e4445cda3fffd2e751bd1c4d706f27375911949ba6bb62e1c"
  },
  "kernelspec": {
   "display_name": "Python 3.10.2 64-bit",
   "language": "python",
   "name": "python3"
  },
  "language_info": {
   "codemirror_mode": {
    "name": "ipython",
    "version": 3
   },
   "file_extension": ".py",
   "mimetype": "text/x-python",
   "name": "python",
   "nbconvert_exporter": "python",
   "pygments_lexer": "ipython3",
   "version": "3.10.2"
  },
  "orig_nbformat": 4
 },
 "nbformat": 4,
 "nbformat_minor": 2
}
