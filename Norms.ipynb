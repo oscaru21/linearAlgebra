{
 "cells": [
  {
   "cell_type": "code",
   "execution_count": 10,
   "metadata": {},
   "outputs": [],
   "source": [
    "import numpy as np\n",
    "from matplotlib import pyplot as plt\n",
    "from time import time"
   ]
  },
  {
   "cell_type": "code",
   "execution_count": 11,
   "metadata": {},
   "outputs": [],
   "source": [
    "x1 = np.array([2])\n",
    "x2 = np.array([25, 2])\n",
    "x3 = np.array([25, 2, 5])"
   ]
  },
  {
   "cell_type": "code",
   "execution_count": 12,
   "metadata": {},
   "outputs": [
    {
     "name": "stdout",
     "output_type": "stream",
     "text": [
      "types:\n",
      "<class 'numpy.ndarray'>\n",
      "<class 'numpy.ndarray'>\n",
      "<class 'numpy.ndarray'>\n",
      "shapes:\n",
      "(1,)\n",
      "(2,)\n",
      "(3,)\n",
      "dType:\n",
      "int32\n",
      "int32\n",
      "int32\n"
     ]
    }
   ],
   "source": [
    "print('types:')\n",
    "print(type(x1))\n",
    "print(type(x2))\n",
    "print(type(x3))\n",
    "\n",
    "print('shapes:')\n",
    "print(x1.shape)\n",
    "print(x2.shape)\n",
    "print(x3.shape)\n",
    "\n",
    "print('dType:')\n",
    "print(x1.dtype)\n",
    "print(x2.dtype)\n",
    "print(x3.dtype)\n"
   ]
  },
  {
   "cell_type": "markdown",
   "metadata": {},
   "source": [
    "Norms:"
   ]
  },
  {
   "cell_type": "code",
   "execution_count": 14,
   "metadata": {},
   "outputs": [
    {
     "name": "stdout",
     "output_type": "stream",
     "text": [
      "Python L2 norm\n",
      "2.0\n",
      "25.079872407968907\n",
      "25.573423705088842\n",
      "Time taken = 0.0010s\n",
      "NumPy L2 norm\n",
      "2.0\n",
      "25.079872407968907\n",
      "25.573423705088842\n",
      "Time taken = 0.0015s\n"
     ]
    }
   ],
   "source": [
    "#L2 norm is defined as the square root of the sum of all the squared elements\n",
    "def L2Norm(vector):\n",
    "    squared_sum = 0\n",
    "    for el in vector:\n",
    "        squared_sum += pow(el, 2)\n",
    "    return pow(squared_sum, 0.5)\n",
    "\n",
    "start = time()\n",
    "print('Python L2 norm')\n",
    "print(L2Norm(x1))\n",
    "print(L2Norm(x2))\n",
    "print(L2Norm(x3))\n",
    "print('Time taken = %.4fs' % (time() - start))\n",
    "\n",
    "start = time()\n",
    "print('NumPy L2 norm')\n",
    "print(np.linalg.norm(x1))\n",
    "print(np.linalg.norm(x2))\n",
    "print(np.linalg.norm(x3))\n",
    "print('Time taken = %.4fs' % (time() - start))"
   ]
  },
  {
   "cell_type": "markdown",
   "metadata": {},
   "source": [
    "L1 Norm"
   ]
  },
  {
   "cell_type": "code",
   "execution_count": 15,
   "metadata": {},
   "outputs": [
    {
     "name": "stdout",
     "output_type": "stream",
     "text": [
      "Python L1 norm\n",
      "2\n",
      "27\n",
      "32\n"
     ]
    }
   ],
   "source": [
    "#L1 norm is defined as the sum of all the values in the vector\n",
    "def L1Norm(vector):\n",
    "    sum = 0\n",
    "    for el in vector:\n",
    "        sum += abs(el)\n",
    "    return sum\n",
    "\n",
    "print('Python L1 norm')\n",
    "print(L1Norm(x1))\n",
    "print(L1Norm(x2))\n",
    "print(L1Norm(x3))"
   ]
  },
  {
   "cell_type": "markdown",
   "metadata": {},
   "source": [
    "Squared L2 Norm:"
   ]
  },
  {
   "cell_type": "code",
   "execution_count": 17,
   "metadata": {},
   "outputs": [
    {
     "name": "stdout",
     "output_type": "stream",
     "text": [
      "Python Squared L2 norm\n",
      "4\n",
      "629\n",
      "654\n",
      "Time taken = 0.0014s\n",
      "NumPy Squared L2 norm\n",
      "4\n",
      "629\n",
      "654\n",
      "Time taken = 0.0016s\n"
     ]
    }
   ],
   "source": [
    "#Is the same as the L2 norm but squared or withou the square root\n",
    "#it can also be computed as XT . X\n",
    "def SquaredL2Norm(vector):\n",
    "    squared_sum = 0\n",
    "    for el in vector:\n",
    "        squared_sum += pow(el, 2)\n",
    "    return squared_sum\n",
    "\n",
    "start = time()\n",
    "print('Python Squared L2 norm')\n",
    "print(SquaredL2Norm(x1))\n",
    "print(SquaredL2Norm(x2))\n",
    "print(SquaredL2Norm(x3))\n",
    "print('Time taken = %.4fs' % (time() - start))\n",
    "\n",
    "start = time()\n",
    "print('NumPy Squared L2 norm')\n",
    "print(np.dot(x1,x1))\n",
    "print(np.dot(x2,x2))\n",
    "print(np.dot(x3,x3))\n",
    "print('Time taken = %.4fs' % (time() - start))"
   ]
  }
 ],
 "metadata": {
  "interpreter": {
   "hash": "369f2c481f4da34e4445cda3fffd2e751bd1c4d706f27375911949ba6bb62e1c"
  },
  "kernelspec": {
   "display_name": "Python 3.10.2 64-bit",
   "language": "python",
   "name": "python3"
  },
  "language_info": {
   "codemirror_mode": {
    "name": "ipython",
    "version": 3
   },
   "file_extension": ".py",
   "mimetype": "text/x-python",
   "name": "python",
   "nbconvert_exporter": "python",
   "pygments_lexer": "ipython3",
   "version": "3.10.2"
  },
  "orig_nbformat": 4
 },
 "nbformat": 4,
 "nbformat_minor": 2
}
